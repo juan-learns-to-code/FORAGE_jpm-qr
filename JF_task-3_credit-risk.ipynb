{
 "cells": [
  {
   "cell_type": "code",
   "execution_count": 1,
   "id": "452f2fad",
   "metadata": {},
   "outputs": [],
   "source": [
    "from sklearn.linear_model import LogisticRegression\n",
    "from sklearn import metrics\n",
    "import numpy as np\n",
    "import pandas as pd"
   ]
  },
  {
   "cell_type": "code",
   "execution_count": 4,
   "id": "45d4dc4c",
   "metadata": {},
   "outputs": [],
   "source": [
    "df = pd.read_csv('Task_3_and_4_Loan_Data.csv')\n",
    "features = ['credit_lines_outstanding', 'debt_to_income', 'payment_to_income', 'years_employed', 'fico_score']"
   ]
  },
  {
   "cell_type": "code",
   "execution_count": 5,
   "id": "ab0083ad",
   "metadata": {},
   "outputs": [],
   "source": [
    "df['payment_to_income'] = df['loan_amt_outstanding'] / df['income']"
   ]
  },
  {
   "cell_type": "code",
   "execution_count": 6,
   "id": "41849253",
   "metadata": {},
   "outputs": [],
   "source": [
    "df['debt_to_income'] = df['total_debt_outstanding'] / df['income']"
   ]
  },
  {
   "cell_type": "code",
   "execution_count": 7,
   "id": "391b66b2",
   "metadata": {},
   "outputs": [
    {
     "name": "stdout",
     "output_type": "stream",
     "text": [
      "[[ 8.18520373  0.54490854  0.01994244 -2.77630853 -0.02418391]] [-0.09162643]\n"
     ]
    }
   ],
   "source": [
    "clf = LogisticRegression(random_state=0, solver='liblinear', tol=1e-5, max_iter=10000).fit(df[features], df['default'])\n",
    "print(clf.coef_, clf.intercept_)"
   ]
  },
  {
   "cell_type": "code",
   "execution_count": 8,
   "id": "b39cb490",
   "metadata": {},
   "outputs": [
    {
     "name": "stdout",
     "output_type": "stream",
     "text": [
      "0.0037\n",
      "0.9925106069101026\n"
     ]
    }
   ],
   "source": [
    "y_pred = clf.predict(df[features])\n",
    "\n",
    "fpr, tpr, thresholds = metrics.roc_curve(df['default'], y_pred)\n",
    "print((1.0*(abs(df['default']-y_pred)).sum()) / len(df))\n",
    "print(metrics.auc(fpr, tpr))"
   ]
  }
 ],
 "metadata": {
  "kernelspec": {
   "display_name": "Python 3 (ipykernel)",
   "language": "python",
   "name": "python3"
  },
  "language_info": {
   "codemirror_mode": {
    "name": "ipython",
    "version": 3
   },
   "file_extension": ".py",
   "mimetype": "text/x-python",
   "name": "python",
   "nbconvert_exporter": "python",
   "pygments_lexer": "ipython3",
   "version": "3.9.16"
  }
 },
 "nbformat": 4,
 "nbformat_minor": 5
}
