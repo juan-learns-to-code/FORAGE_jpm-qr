{
 "cells": [
  {
   "cell_type": "code",
   "execution_count": 1,
   "id": "de068504",
   "metadata": {},
   "outputs": [],
   "source": [
    "import pandas as pd\n",
    "from math import log"
   ]
  },
  {
   "cell_type": "code",
   "execution_count": 5,
   "id": "60377e29",
   "metadata": {},
   "outputs": [],
   "source": [
    "df = pd.read_csv('Task_3_and_4_Loan_Data.csv')\n",
    "\n",
    "x = df['default'].to_list()\n",
    "y = df['fico_score'].to_list()\n",
    "n = len(x)\n",
    "print (len(x), len(y))\n",
    "default = [0 for i in range(851)]\n",
    "total = [0 for i in range(851)]"
   ]
  },
  {
   "cell_type": "code",
   "execution_count": 6,
   "id": "16107ccc",
   "metadata": {},
   "outputs": [],
   "source": [
    "for i in range(n):\n",
    "    y[i] = int(y[i])\n",
    "    default[y[i]-300] += x[i]\n",
    "    total[y[i]-300] += 1\n",
    "    \n",
    "for i in range(0, 551):\n",
    "    default[i] += default[i-1]\n",
    "    total[i] += total[i-1]\n",
    "    \n",
    "import numpy as np\n",
    "    \n",
    "def log_likelihood(n, k):\n",
    "    p = k/n\n",
    "    if (p==0 or p==1):\n",
    "        return 0\n",
    "    return k*np.log(p)+ (n-k)*np.log(1-p)\n",
    "\n",
    "r = 10\n",
    "dp = [[[-10**18, 0] for i in range(551)] for j in range(r+1)]\n",
    "\n",
    "for i in range(r+1):\n",
    "    for j in range(551):\n",
    "        if (i==0):\n",
    "            dp[i][j][0] = 0\n",
    "        else:\n",
    "            for k in range(j):\n",
    "                if (total[j]==total[k]):\n",
    "                    continue\n",
    "                if (i==1):\n",
    "                    dp[i][j][0] = log_likelihood(total[j], default[j])\n",
    "                else:\n",
    "                    if (dp[i][j][0] < (dp[i-1][k][0] + log_likelihood(total[j]-total[k], default[j] - default[k]))):\n",
    "                        dp[i][j][0] = log_likelihood(total[j]-total[k], default[j]-default[k]) + dp[i-1][k][0]\n",
    "                        dp[i][j][1] = k\n",
    "\n",
    "print (round(dp[r][550][0], 4))"
   ]
  },
  {
   "cell_type": "code",
   "execution_count": 7,
   "id": "27e746d3",
   "metadata": {},
   "outputs": [],
   "source": [
    "k = 550\n",
    "l = []\n",
    "while r >= 0:\n",
    "    l.append(k+300)\n",
    "    k = dp[r][k][1]\n",
    "    r -= 1\n",
    "\n",
    "print(l)"
   ]
  }
 ],
 "metadata": {
  "kernelspec": {
   "display_name": "Python 3 (ipykernel)",
   "language": "python",
   "name": "python3"
  },
  "language_info": {
   "codemirror_mode": {
    "name": "ipython",
    "version": 3
   },
   "file_extension": ".py",
   "mimetype": "text/x-python",
   "name": "python",
   "nbconvert_exporter": "python",
   "pygments_lexer": "ipython3",
   "version": "3.9.16"
  }
 },
 "nbformat": 4,
 "nbformat_minor": 5
}
